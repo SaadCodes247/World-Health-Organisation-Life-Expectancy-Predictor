{
 "cells": [
  {
   "cell_type": "code",
   "execution_count": 4,
   "id": "2797a698",
   "metadata": {},
   "outputs": [],
   "source": [
    "import pandas as pd\n",
    "import WHO_tt_split_and_fe"
   ]
  },
  {
   "cell_type": "code",
   "execution_count": 5,
   "id": "db0c34a8",
   "metadata": {},
   "outputs": [],
   "source": [
    "df = pd.read_csv(r\"C:\\Users\\Sahm9\\Work\\Github\\projects\\Who_Project\\src\\World_Health_Organisation_Data.csv\")\n",
    "pd.set_option('display.max_columns', None)\n",
    "pd.set_option('display.max_rows', None)\n",
    "pd.set_option('display.max_colwidth', None)"
   ]
  },
  {
   "cell_type": "code",
   "execution_count": 32,
   "id": "2d590d7f-1175-45b7-9a92-2d915a2be9e8",
   "metadata": {},
   "outputs": [],
   "source": [
    "def who_life_expectancy_predictor_with_consent_question():\n",
    "\n",
    "    # Ask user to input Country and Consent for model use\n",
    "\n",
    "    user_input_country = input(\"Please enter the country you are interested in: \")\n",
    "\n",
    "    user_input_consent_for_model_choice = input(\"Consent Required: Hello! Please type model1 to include sensitive geographical features or type model2 to exclude sensitive geographical features\\n\").lower()\n",
    "\n",
    "    # model 1\n",
    "    \n",
    "    if user_input_consent_for_model_choice == \"model1\":\n",
    "\n",
    "        data_entered_by_user_model_1 = {}\n",
    "        \n",
    "        for feature in WHO_tt_split_and_fe.features_model_1:\n",
    "            flag = False\n",
    "            while flag == False:\n",
    "                user_input_for_feature = input(f\"Enter value for {feature}: \")\n",
    "                try:\n",
    "                    user_input_for_feature = float(user_input_for_feature)\n",
    "                    flag = True\n",
    "                except ValueError:\n",
    "                    print(\"Input feature must be numerical. Please try again\")\n",
    "            data_entered_by_user_model_1[feature] = user_input_for_feature\n",
    "        df_prediction_for_model_1 = pd.DataFrame([data_entered_by_user_model_1])\n",
    "        df_prediction_for_model_1.insert(0, 'const', [1])\n",
    "\n",
    "        user_choice_year_model1 = df_prediction_for_model_1['Year'].iloc[0]\n",
    "\n",
    "        print(f\"For {user_input_country} in the Year {int(user_choice_year_model1)}, using the model which includes sensitive geographical features:\\n\")\n",
    "\n",
    "        print(f\"New Model - Life Expectancy Prediction: {round(float(WHO_tt_split_and_fe.lin_reg_model_1.predict(df_prediction_for_model_1).iloc[0]), 1)} Years +- {round(WHO_tt_split_and_fe.test_rmse_model_1, 1)} Years\\n\")\n",
    "\n",
    "        print(f\"Old Model - Life Expectancy Original: {df.loc[(df['Country'] == user_input_country) & (df['Year'] == user_choice_year_model1)]['Life_expectancy'].iloc[0]} Years\\n\")\n",
    "\n",
    "        print(\"For the data you have entered below:\")\n",
    "\n",
    "        return df_prediction_for_model_1.iloc[:, 1:]\n",
    "    \n",
    "    # model 2\n",
    "\n",
    "    elif user_input_consent_for_model_choice == 'model2':\n",
    "\n",
    "        data_entered_by_user_model_2 = {}\n",
    "        \n",
    "        for feature in WHO_tt_split_and_fe.non_sensitive_features_model_2:\n",
    "            flag = False\n",
    "            while flag == False:\n",
    "                user_input_for_feature = input(f\"Enter value for {feature}: \")\n",
    "                try:\n",
    "                    user_input_for_feature = float(user_input_for_feature)\n",
    "                    flag = True\n",
    "                except ValueError:\n",
    "                    print(\"Input feature must be numerical. Please try again\")\n",
    "            data_entered_by_user_model_2[feature] = user_input_for_feature\n",
    "        df_prediction_for_model_2 = pd.DataFrame([data_entered_by_user_model_2])\n",
    "        df_prediction_for_model_2.insert(0, 'const', [1])\n",
    "\n",
    "        user_choice_year_model2 = float(df_prediction_for_model_2['Year'].iloc[0])\n",
    "\n",
    "        print(f\"For {user_input_country} in the Year {int(user_choice_year_model2)}, using the non-sensitive geographical features model:\\n\")\n",
    "\n",
    "        print(f\"New Model - Life Expectancy Prediction: {round(float(WHO_tt_split_and_fe.lin_reg_model_2.predict(df_prediction_for_model_2).iloc[0]), 1)} Years +- {round(WHO_tt_split_and_fe.test_rmse_model_2, 1)} Years\\n\")\n",
    "\n",
    "        print(f\"Old Model - Life Expectancy Original: {df.loc[(df['Country'] == user_input_country) & (df['Year'] == user_choice_year_model2)]['Life_expectancy'].iloc[0]} Years\\n\")\n",
    "\n",
    "        print(\"For the data you have entered below:\")\n",
    "\n",
    "        return df_prediction_for_model_2.iloc[:, 1:]"
   ]
  },
  {
   "cell_type": "code",
   "execution_count": 33,
   "id": "6c85cd97",
   "metadata": {},
   "outputs": [
    {
     "data": {
      "text/html": [
       "<div>\n",
       "<style scoped>\n",
       "    .dataframe tbody tr th:only-of-type {\n",
       "        vertical-align: middle;\n",
       "    }\n",
       "\n",
       "    .dataframe tbody tr th {\n",
       "        vertical-align: top;\n",
       "    }\n",
       "\n",
       "    .dataframe thead th {\n",
       "        text-align: right;\n",
       "    }\n",
       "</style>\n",
       "<table border=\"1\" class=\"dataframe\">\n",
       "  <thead>\n",
       "    <tr style=\"text-align: right;\">\n",
       "      <th></th>\n",
       "      <th>Country</th>\n",
       "      <th>Year</th>\n",
       "      <th>GDP_per_capita</th>\n",
       "      <th>Population_mln</th>\n",
       "      <th>Schooling</th>\n",
       "      <th>Economy_status_Developed</th>\n",
       "      <th>Life_expectancy</th>\n",
       "    </tr>\n",
       "  </thead>\n",
       "  <tbody>\n",
       "    <tr>\n",
       "      <th>1</th>\n",
       "      <td>Spain</td>\n",
       "      <td>2015</td>\n",
       "      <td>25742</td>\n",
       "      <td>46.44</td>\n",
       "      <td>9.7</td>\n",
       "      <td>1</td>\n",
       "      <td>82.8</td>\n",
       "    </tr>\n",
       "  </tbody>\n",
       "</table>\n",
       "</div>"
      ],
      "text/plain": [
       "  Country  Year  GDP_per_capita  Population_mln  Schooling  \\\n",
       "1   Spain  2015           25742           46.44        9.7   \n",
       "\n",
       "   Economy_status_Developed  Life_expectancy  \n",
       "1                         1             82.8  "
      ]
     },
     "execution_count": 33,
     "metadata": {},
     "output_type": "execute_result"
    }
   ],
   "source": [
    "df.loc[(df['Country'] == 'Spain') & (df['Year'] == 2015)][['Country', 'Year', 'GDP_per_capita', 'Population_mln', 'Schooling', 'Economy_status_Developed', 'Life_expectancy']]"
   ]
  },
  {
   "cell_type": "code",
   "execution_count": 34,
   "id": "8b6edc4e-22f1-40da-8c39-1a035acc8381",
   "metadata": {},
   "outputs": [
    {
     "name": "stdout",
     "output_type": "stream",
     "text": [
      "For Spain in the Year 2015, using the non-sensitive geographical features model:\n",
      "\n",
      "New Model - Life Expectancy Prediction: 75.9 Years +- 6.5 Years\n",
      "\n",
      "Old Model - Life Expectancy Original: 82.8 Years\n",
      "\n",
      "For the data you have entered below:\n"
     ]
    },
    {
     "data": {
      "text/html": [
       "<div>\n",
       "<style scoped>\n",
       "    .dataframe tbody tr th:only-of-type {\n",
       "        vertical-align: middle;\n",
       "    }\n",
       "\n",
       "    .dataframe tbody tr th {\n",
       "        vertical-align: top;\n",
       "    }\n",
       "\n",
       "    .dataframe thead th {\n",
       "        text-align: right;\n",
       "    }\n",
       "</style>\n",
       "<table border=\"1\" class=\"dataframe\">\n",
       "  <thead>\n",
       "    <tr style=\"text-align: right;\">\n",
       "      <th></th>\n",
       "      <th>Year</th>\n",
       "      <th>GDP_per_capita</th>\n",
       "      <th>Population_mln</th>\n",
       "      <th>Schooling</th>\n",
       "      <th>Economy_status_Developed</th>\n",
       "    </tr>\n",
       "  </thead>\n",
       "  <tbody>\n",
       "    <tr>\n",
       "      <th>0</th>\n",
       "      <td>2015.0</td>\n",
       "      <td>25742.0</td>\n",
       "      <td>46.44</td>\n",
       "      <td>9.7</td>\n",
       "      <td>1.0</td>\n",
       "    </tr>\n",
       "  </tbody>\n",
       "</table>\n",
       "</div>"
      ],
      "text/plain": [
       "     Year  GDP_per_capita  Population_mln  Schooling  Economy_status_Developed\n",
       "0  2015.0         25742.0           46.44        9.7                       1.0"
      ]
     },
     "execution_count": 34,
     "metadata": {},
     "output_type": "execute_result"
    }
   ],
   "source": [
    "who_life_expectancy_predictor_with_consent_question()"
   ]
  }
 ],
 "metadata": {
  "kernelspec": {
   "display_name": "base",
   "language": "python",
   "name": "python3"
  },
  "language_info": {
   "codemirror_mode": {
    "name": "ipython",
    "version": 3
   },
   "file_extension": ".py",
   "mimetype": "text/x-python",
   "name": "python",
   "nbconvert_exporter": "python",
   "pygments_lexer": "ipython3",
   "version": "3.12.3"
  }
 },
 "nbformat": 4,
 "nbformat_minor": 5
}
