{
 "cells": [
  {
   "cell_type": "code",
   "execution_count": 2,
   "id": "a96d4451",
   "metadata": {},
   "outputs": [],
   "source": [
    "from sklearn.model_selection import train_test_split\n",
    "import statsmodels.api as sm\n",
    "from pathlib import Path\n",
    "import pandas as pd\n",
    "import statsmodels"
   ]
  },
  {
   "cell_type": "code",
   "execution_count": 3,
   "id": "57bbde24",
   "metadata": {},
   "outputs": [],
   "source": [
    "df = pd.read_csv(r\"C:\\Users\\Sahm9\\Work\\Github\\projects\\Who_Project\\World_Health_Organisation_Data.csv\")\n",
    "pd.set_option('display.max_columns', None)\n",
    "pd.set_option('display.max_rows', None)\n",
    "pd.set_option('display.max_colwidth', None)"
   ]
  },
  {
   "cell_type": "code",
   "execution_count": 4,
   "id": "ee2c53a0",
   "metadata": {},
   "outputs": [
    {
     "data": {
      "text/html": [
       "<div>\n",
       "<style scoped>\n",
       "    .dataframe tbody tr th:only-of-type {\n",
       "        vertical-align: middle;\n",
       "    }\n",
       "\n",
       "    .dataframe tbody tr th {\n",
       "        vertical-align: top;\n",
       "    }\n",
       "\n",
       "    .dataframe thead th {\n",
       "        text-align: right;\n",
       "    }\n",
       "</style>\n",
       "<table border=\"1\" class=\"dataframe\">\n",
       "  <thead>\n",
       "    <tr style=\"text-align: right;\">\n",
       "      <th></th>\n",
       "      <th>Country</th>\n",
       "      <th>Region</th>\n",
       "      <th>Year</th>\n",
       "      <th>Infant_deaths</th>\n",
       "      <th>Under_five_deaths</th>\n",
       "      <th>Adult_mortality</th>\n",
       "      <th>Alcohol_consumption</th>\n",
       "      <th>Hepatitis_B</th>\n",
       "      <th>Measles</th>\n",
       "      <th>BMI</th>\n",
       "      <th>Polio</th>\n",
       "      <th>Diphtheria</th>\n",
       "      <th>Incidents_HIV</th>\n",
       "      <th>GDP_per_capita</th>\n",
       "      <th>Population_mln</th>\n",
       "      <th>Thinness_ten_nineteen_years</th>\n",
       "      <th>Thinness_five_nine_years</th>\n",
       "      <th>Schooling</th>\n",
       "      <th>Economy_status_Developed</th>\n",
       "      <th>Economy_status_Developing</th>\n",
       "      <th>Life_expectancy</th>\n",
       "    </tr>\n",
       "  </thead>\n",
       "  <tbody>\n",
       "    <tr>\n",
       "      <th>0</th>\n",
       "      <td>Turkiye</td>\n",
       "      <td>Middle East</td>\n",
       "      <td>2015</td>\n",
       "      <td>11.1</td>\n",
       "      <td>13.0</td>\n",
       "      <td>105.824</td>\n",
       "      <td>1.32</td>\n",
       "      <td>97</td>\n",
       "      <td>65</td>\n",
       "      <td>27.8</td>\n",
       "      <td>97</td>\n",
       "      <td>97</td>\n",
       "      <td>0.08</td>\n",
       "      <td>11006</td>\n",
       "      <td>78.53</td>\n",
       "      <td>4.9</td>\n",
       "      <td>4.8</td>\n",
       "      <td>7.8</td>\n",
       "      <td>0</td>\n",
       "      <td>1</td>\n",
       "      <td>76.5</td>\n",
       "    </tr>\n",
       "  </tbody>\n",
       "</table>\n",
       "</div>"
      ],
      "text/plain": [
       "   Country       Region  Year  Infant_deaths  Under_five_deaths  \\\n",
       "0  Turkiye  Middle East  2015           11.1               13.0   \n",
       "\n",
       "   Adult_mortality  Alcohol_consumption  Hepatitis_B  Measles   BMI  Polio  \\\n",
       "0          105.824                 1.32           97       65  27.8     97   \n",
       "\n",
       "   Diphtheria  Incidents_HIV  GDP_per_capita  Population_mln  \\\n",
       "0          97           0.08           11006           78.53   \n",
       "\n",
       "   Thinness_ten_nineteen_years  Thinness_five_nine_years  Schooling  \\\n",
       "0                          4.9                       4.8        7.8   \n",
       "\n",
       "   Economy_status_Developed  Economy_status_Developing  Life_expectancy  \n",
       "0                         0                          1             76.5  "
      ]
     },
     "execution_count": 4,
     "metadata": {},
     "output_type": "execute_result"
    }
   ],
   "source": [
    "df.head(1)"
   ]
  },
  {
   "cell_type": "code",
   "execution_count": 5,
   "id": "3b42c7bc-b652-45b6-87d1-985bc8ee8804",
   "metadata": {},
   "outputs": [],
   "source": [
    "# All features included for model 1\n",
    "\n",
    "features_model_1 = [\n",
    "    \"Year\",\n",
    "    \"Infant_deaths\",\n",
    "    \"Under_five_deaths\",\n",
    "    \"Adult_mortality\",\n",
    "    \"Alcohol_consumption\",\n",
    "    \"Hepatitis_B\",\n",
    "    \"Measles\",\n",
    "    \"BMI\",\n",
    "    \"Polio\",\n",
    "    \"Diphtheria\",\n",
    "    \"Incidents_HIV\",\n",
    "    \"GDP_per_capita\",\n",
    "    \"Population_mln\",\n",
    "    \"Thinness_ten_nineteen_years\",\n",
    "    \"Thinness_five_nine_years\",\n",
    "    \"Schooling\",\n",
    "    \"Economy_status_Developed\",\n",
    "    ]"
   ]
  },
  {
   "cell_type": "code",
   "execution_count": 6,
   "id": "b108b778",
   "metadata": {},
   "outputs": [],
   "source": [
    "# Reducing features by taking out sensitive information for model 2\n",
    "\n",
    "non_sensitive_features_model_2 = [\n",
    "    \"Year\",\n",
    "    \"GDP_per_capita\",\n",
    "    \"Population_mln\",\n",
    "    \"Schooling\",\n",
    "    \"Economy_status_Developed\",\n",
    "    ]"
   ]
  },
  {
   "cell_type": "code",
   "execution_count": 7,
   "id": "d85b9adb",
   "metadata": {},
   "outputs": [],
   "source": [
    "def feature_eng_model_1(df):\n",
    "    df = df.copy()\n",
    "    df = sm.add_constant(df)\n",
    "    return df"
   ]
  },
  {
   "cell_type": "code",
   "execution_count": 8,
   "id": "910d2606",
   "metadata": {},
   "outputs": [],
   "source": [
    "def feature_eng_model_2(df):\n",
    "    df = df.copy()\n",
    "    df = sm.add_constant(df)\n",
    "    return df"
   ]
  },
  {
   "cell_type": "code",
   "execution_count": 9,
   "id": "b46955d9",
   "metadata": {},
   "outputs": [],
   "source": [
    "# Model 1 - All features\n",
    "\n",
    "X_model_1 = df[features_model_1]\n",
    "y_model_1 = df[\"Life_expectancy\"]\n",
    "\n",
    "# Modle 2 - All non-sensitive features\n",
    "\n",
    "X_model_2 = df[non_sensitive_features_model_2]\n",
    "y_model_2 = df[\"Life_expectancy\"]"
   ]
  },
  {
   "cell_type": "code",
   "execution_count": 10,
   "id": "4bbb7105",
   "metadata": {},
   "outputs": [],
   "source": [
    "# Model 1 - All features\n",
    "\n",
    "X_train_model_1, X_test_model_1, y_train_model_1, y_test_model_1 = train_test_split(X_model_1, y_model_1, test_size=0.2, random_state= 1)\n",
    "\n",
    "# Model 2 - All non-sensitive features\n",
    "\n",
    "X_train_model_2, X_test_model_2, y_train_model_2, y_test_model_2 = train_test_split(X_model_2, y_model_2, test_size=0.2, random_state= 2)"
   ]
  },
  {
   "cell_type": "code",
   "execution_count": null,
   "id": "a5ae4bd8",
   "metadata": {},
   "outputs": [],
   "source": [
    "# Generate and fit model 1\n",
    "\n",
    "X_train_model_1_fe = feature_eng_model_1(X_train_model_1)\n",
    "lin_reg = sm.OLS(y_train_model_1, X_train_model_1_fe)\n",
    "lin_reg_model_1 = lin_reg.fit()\n",
    "\n",
    "# Generate and fit model 2\n",
    "\n",
    "X_train_model_2_fe = feature_eng_model_2(X_train_model_2)\n",
    "lin_reg = sm.OLS(y_train_model_2, X_train_model_2_fe)\n",
    "lin_reg_model_2 = lin_reg.fit()"
   ]
  },
  {
   "cell_type": "code",
   "execution_count": null,
   "id": "9828666d",
   "metadata": {},
   "outputs": [
    {
     "name": "stdout",
     "output_type": "stream",
     "text": [
      "Model 1 - All features:\n",
      "\n",
      "Model 1 Train RMSE: 1.3506110570904786\n",
      "Model 1 Test RMSE: 1.363622067739805\n",
      "\n",
      "---------------------------------------------\n",
      "\n",
      "Model 2 - Non-Sensitive features only:\n",
      "\n",
      "Model 2 Train RMSE: 5.972435484566709\n",
      "Model 2 Test RMSE: 6.45216646987358\n",
      "\n"
     ]
    }
   ],
   "source": [
    "# Calculate the RMSE for both train and test for model 1 and 2\n",
    "\n",
    "# Model 1 - All features\n",
    "\n",
    "print(f\"Model 1 - All features:\\n\")\n",
    "\n",
    "# train RMSE\n",
    "\n",
    "y_train_pred_model_1 = lin_reg_model_1.predict(X_train_model_1_fe)\n",
    "train_rmse_model_1 = statsmodels.tools.eval_measures.rmse(y_train_model_1, y_train_pred_model_1) # check\n",
    "print(f\"Model 1 Train RMSE: {train_rmse_model_1}\")\n",
    "\n",
    "# test RMSE\n",
    "\n",
    "X_test_model_1_fe = feature_eng_model_1(X_test_model_1)\n",
    "y_test_pred_model_1 = lin_reg_model_1.predict(X_test_model_1_fe)\n",
    "test_rmse_model_1 = statsmodels.tools.eval_measures.rmse(y_test_model_1, y_test_pred_model_1)\n",
    "print(f\"Model 1 Test RMSE: {test_rmse_model_1}\\n\")\n",
    "\n",
    "print(f\"---------------------------------------------\\n\")\n",
    "\n",
    "# # Model 2 - All non-sensitive features\n",
    "\n",
    "print(f\"Model 2 - Non-Sensitive features only:\\n\")\n",
    "\n",
    "# train RMSE\n",
    "\n",
    "y_train_pred_model_2 = lin_reg_model_2.predict(X_train_model_2_fe)\n",
    "train_rmse_model_2 = statsmodels.tools.eval_measures.rmse(y_train_model_2, y_train_pred_model_2) # check\n",
    "print(f\"Model 2 Train RMSE: {train_rmse_model_2}\")\n",
    "\n",
    "# test RMSE\n",
    "\n",
    "X_test_model_2_fe = feature_eng_model_1(X_test_model_2)\n",
    "y_test_pred_model_2 = lin_reg_model_2.predict(X_test_model_2_fe)\n",
    "test_rmse_model_2 = statsmodels.tools.eval_measures.rmse(y_test_model_2, y_test_pred_model_2)\n",
    "print(f\"Model 2 Test RMSE: {test_rmse_model_2}\\n\")\n"
   ]
  },
  {
   "cell_type": "code",
   "execution_count": null,
   "id": "31c3d836-9ef7-4f95-b060-40407645827f",
   "metadata": {},
   "outputs": [
    {
     "name": "stdout",
     "output_type": "stream",
     "text": [
      "const                          35.143980\n",
      "Year                            0.024859\n",
      "Infant_deaths                  -0.047143\n",
      "Under_five_deaths              -0.056292\n",
      "Adult_mortality                -0.048447\n",
      "Alcohol_consumption             0.067761\n",
      "Hepatitis_B                    -0.009084\n",
      "Measles                         0.001338\n",
      "BMI                            -0.155824\n",
      "Polio                          -0.001738\n",
      "Diphtheria                      0.004110\n",
      "Incidents_HIV                   0.092358\n",
      "GDP_per_capita                  0.000024\n",
      "Population_mln                 -0.000180\n",
      "Thinness_ten_nineteen_years    -0.032738\n",
      "Thinness_five_nine_years       -0.002472\n",
      "Schooling                       0.090811\n",
      "Economy_status_Developed        0.645618\n",
      "dtype: float64\n"
     ]
    }
   ],
   "source": [
    "# Parameters for prediction in model 1:\n",
    "\n",
    "print(lin_reg_model_1.params)"
   ]
  },
  {
   "cell_type": "code",
   "execution_count": null,
   "id": "97c97f15",
   "metadata": {},
   "outputs": [
    {
     "name": "stdout",
     "output_type": "stream",
     "text": [
      "const                      -242.806529\n",
      "Year                          0.148006\n",
      "GDP_per_capita                0.000126\n",
      "Population_mln                0.003676\n",
      "Schooling                     1.686082\n",
      "Economy_status_Developed      0.736579\n",
      "dtype: float64\n"
     ]
    }
   ],
   "source": [
    "# Parameters for prediction in model 2:\n",
    "\n",
    "print(lin_reg_model_2.params)"
   ]
  }
 ],
 "metadata": {
  "kernelspec": {
   "display_name": "base",
   "language": "python",
   "name": "python3"
  },
  "language_info": {
   "codemirror_mode": {
    "name": "ipython",
    "version": 3
   },
   "file_extension": ".py",
   "mimetype": "text/x-python",
   "name": "python",
   "nbconvert_exporter": "python",
   "pygments_lexer": "ipython3",
   "version": "3.12.3"
  }
 },
 "nbformat": 4,
 "nbformat_minor": 5
}
