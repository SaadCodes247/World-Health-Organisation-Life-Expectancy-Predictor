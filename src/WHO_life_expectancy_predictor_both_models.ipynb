{
 "cells": [
  {
   "cell_type": "code",
   "execution_count": null,
   "id": "2797a698",
   "metadata": {},
   "outputs": [],
   "source": [
    "import pandas as pd\n",
    "import import_ipynb\n",
    "import WHO_tt_split_and_fe"
   ]
  },
  {
   "cell_type": "code",
   "execution_count": 23,
   "id": "2d590d7f-1175-45b7-9a92-2d915a2be9e8",
   "metadata": {},
   "outputs": [],
   "source": [
    "def who_life_expectancy_predictor_with_consent_question():\n",
    "\n",
    "    # Ask user to input consent for model\n",
    "\n",
    "    user_input_consent_for_model_choice = input(\"Hello! Please type model1 for the predictive model which includes country features \"\\\n",
    "    \"that may be sensitive, or type model2 for the predictive model that excludes all sensitive features\\n\").lower()\n",
    "\n",
    "    # model 1\n",
    "    \n",
    "    if user_input_consent_for_model_choice == \"model1\":\n",
    "\n",
    "        data_entered_by_user_model_1 = {}\n",
    "\n",
    "        # Loops through all the columns and get the user's input whilst checking that they are numeric\n",
    "        for feature in WHO_tt_split_and_fe.features_model_1:\n",
    "            flag = False\n",
    "            while flag == False:\n",
    "                user_input_for_feature = input(f\"Enter value for {feature}: \")\n",
    "                try:\n",
    "                    user_input_for_feature = int(user_input_for_feature)\n",
    "                    flag = True\n",
    "                except ValueError:\n",
    "                    print(\"Input feature must be an integer. Please try again\")\n",
    "            data_entered_by_user_model_1[feature] = user_input_for_feature\n",
    "        df_prediction_for_model_1 = pd.DataFrame([data_entered_by_user_model_1])\n",
    "        df_prediction_for_model_1.insert(0, 'const (ignore)', [1])\n",
    "\n",
    "        print(\"Life Expectancy Predicted is: xyz\")\n",
    "\n",
    "        return df_prediction_for_model_1\n",
    "    \n",
    "    # model 2\n",
    "\n",
    "    elif user_input_consent_for_model_choice == 'model2':\n",
    "\n",
    "        data_entered_by_user_model_2 = {}\n",
    "        \n",
    "        # Loops through all the columns and get the user's input whilst checking they are numeric\n",
    "\n",
    "        for feature in WHO_tt_split_and_fe.non_sensitive_features_model_2:\n",
    "            flag = False\n",
    "            while flag == False:\n",
    "                user_input_for_feature = input(f\"Enter value for {feature}: \")\n",
    "                try:\n",
    "                    user_input_for_feature = int(user_input_for_feature)\n",
    "                    flag = True\n",
    "                except ValueError:\n",
    "                    print(\"Input feature must be an integer. Please try again\")\n",
    "            data_entered_by_user_model_2[feature] = user_input_for_feature\n",
    "        df_prediction_for_model_2 = pd.DataFrame([data_entered_by_user_model_2])\n",
    "        df_prediction_for_model_2.insert(0, 'const (ignore)', [1])\n",
    "\n",
    "        print(\"Life Expectancy Predicted is: xyz\")\n",
    "\n",
    "        return df_prediction_for_model_2"
   ]
  },
  {
   "cell_type": "code",
   "execution_count": 24,
   "id": "8b6edc4e-22f1-40da-8c39-1a035acc8381",
   "metadata": {},
   "outputs": [
    {
     "name": "stdout",
     "output_type": "stream",
     "text": [
      "Life Expectancy Predicted is: xyz\n"
     ]
    },
    {
     "data": {
      "text/html": [
       "<div>\n",
       "<style scoped>\n",
       "    .dataframe tbody tr th:only-of-type {\n",
       "        vertical-align: middle;\n",
       "    }\n",
       "\n",
       "    .dataframe tbody tr th {\n",
       "        vertical-align: top;\n",
       "    }\n",
       "\n",
       "    .dataframe thead th {\n",
       "        text-align: right;\n",
       "    }\n",
       "</style>\n",
       "<table border=\"1\" class=\"dataframe\">\n",
       "  <thead>\n",
       "    <tr style=\"text-align: right;\">\n",
       "      <th></th>\n",
       "      <th>const (ignore)</th>\n",
       "      <th>Year</th>\n",
       "      <th>GDP_per_capita</th>\n",
       "      <th>Population_mln</th>\n",
       "      <th>Schooling</th>\n",
       "      <th>Economy_status_Developed</th>\n",
       "    </tr>\n",
       "  </thead>\n",
       "  <tbody>\n",
       "    <tr>\n",
       "      <th>0</th>\n",
       "      <td>1</td>\n",
       "      <td>1</td>\n",
       "      <td>1</td>\n",
       "      <td>1</td>\n",
       "      <td>1</td>\n",
       "      <td>1</td>\n",
       "    </tr>\n",
       "  </tbody>\n",
       "</table>\n",
       "</div>"
      ],
      "text/plain": [
       "   const (ignore)  Year  GDP_per_capita  Population_mln  Schooling  \\\n",
       "0               1     1               1               1          1   \n",
       "\n",
       "   Economy_status_Developed  \n",
       "0                         1  "
      ]
     },
     "execution_count": 24,
     "metadata": {},
     "output_type": "execute_result"
    }
   ],
   "source": [
    "who_life_expectancy_predictor_with_consent_question()"
   ]
  },
  {
   "cell_type": "code",
   "execution_count": null,
   "id": "ceb19ad4",
   "metadata": {},
   "outputs": [],
   "source": []
  }
 ],
 "metadata": {
  "kernelspec": {
   "display_name": "base",
   "language": "python",
   "name": "python3"
  },
  "language_info": {
   "codemirror_mode": {
    "name": "ipython",
    "version": 3
   },
   "file_extension": ".py",
   "mimetype": "text/x-python",
   "name": "python",
   "nbconvert_exporter": "python",
   "pygments_lexer": "ipython3",
   "version": "3.12.3"
  }
 },
 "nbformat": 4,
 "nbformat_minor": 5
}
