{
 "cells": [
  {
   "cell_type": "code",
   "execution_count": 3,
   "id": "a96d4451",
   "metadata": {},
   "outputs": [],
   "source": [
    "from sklearn.model_selection import train_test_split\n",
    "import statsmodels.api as sm\n",
    "from pathlib import Path\n",
    "import pandas as pd\n",
    "import statsmodels\n"
   ]
  },
  {
   "cell_type": "code",
   "execution_count": 6,
   "id": "57bbde24",
   "metadata": {},
   "outputs": [],
   "source": [
    "df = pd.read_csv(r\"C:\\Users\\Sahm9\\Work\\Github\\projects\\Who_Project\\World_Health_Organisation_Data.csv\")\n",
    "pd.set_option('display.max_columns', None)\n",
    "pd.set_option('display.max_rows', None)\n",
    "pd.set_option('display.max_colwidth', None)"
   ]
  },
  {
   "cell_type": "code",
   "execution_count": 8,
   "id": "3b42c7bc-b652-45b6-87d1-985bc8ee8804",
   "metadata": {},
   "outputs": [],
   "source": [
    "# All features included for model 1\n",
    "\n",
    "all_features = [\n",
    "    \"Year\",\n",
    "    \"Infant_deaths\",\n",
    "    \"Under_five_deaths\",\n",
    "    \"Adult_mortality\",\n",
    "    \"Alcohol_consumption\",\n",
    "    \"Hepatitis_B\",\n",
    "    \"Measles\",\n",
    "    \"BMI\",\n",
    "    \"Polio\",\n",
    "    \"Diphtheria\",\n",
    "    \"Incidents_HIV\",\n",
    "    \"GDP_per_capita\",\n",
    "    \"Population_mln\",\n",
    "    \"Thinness_ten_nineteen_years\",\n",
    "    \"Thinness_five_nine_years\",\n",
    "    \"Schooling\",\n",
    "    \"Economy_status_Developed\",\n",
    "    ]"
   ]
  },
  {
   "cell_type": "code",
   "execution_count": 9,
   "id": "b108b778",
   "metadata": {},
   "outputs": [],
   "source": [
    "# Reducing features by taking out sensitive information for model 2\n",
    "\n",
    "non_sensitive_features = [\n",
    "    \"Year\",\n",
    "    \"GDP_per_capita\",\n",
    "    \"Population_mln\",\n",
    "    \"Schooling\",\n",
    "    \"Economy_status_Developed\",\n",
    "    ]"
   ]
  },
  {
   "cell_type": "code",
   "execution_count": 10,
   "id": "d85b9adb",
   "metadata": {},
   "outputs": [],
   "source": [
    "def feature_eng_model_1(df):\n",
    "    df = df.copy()\n",
    "    df = sm.add_constant(df)\n",
    "    return df"
   ]
  },
  {
   "cell_type": "code",
   "execution_count": 11,
   "id": "910d2606",
   "metadata": {},
   "outputs": [],
   "source": [
    "def feature_eng_model_2(df):\n",
    "    df = df.copy()\n",
    "    df = sm.add_constant(df)\n",
    "    return df"
   ]
  },
  {
   "cell_type": "code",
   "execution_count": 12,
   "id": "b46955d9",
   "metadata": {},
   "outputs": [],
   "source": [
    "# Model 1 - All features\n",
    "\n",
    "X_model_1 = df[all_features]\n",
    "y_model_1 = df[\"Life_expectancy\"]\n",
    "\n",
    "# Modle 2 - All non-sensitive features\n",
    "\n",
    "X_model_2 = df[non_sensitive_features]\n",
    "y_model_2 = df[\"Life_expectancy\"]"
   ]
  },
  {
   "cell_type": "code",
   "execution_count": null,
   "id": "4bbb7105",
   "metadata": {},
   "outputs": [],
   "source": [
    "# Model 1 - All features\n",
    "\n",
    "X_train_model_1, X_test_model_1, y_train_model_1, y_test_model_1 = train_test_split(X_model_1, y_model_1, test_size=0.2, random_state= 1)\n",
    "\n",
    "# Model 2 - All non-sensitive features\n",
    "\n",
    "X_train_model_2, X_test_model_2, y_train_model_2, y_test_model_2 = train_test_split(X_model_2, y_model_2, test_size=0.2, random_state= 2)"
   ]
  },
  {
   "cell_type": "code",
   "execution_count": 14,
   "id": "a5ae4bd8",
   "metadata": {},
   "outputs": [],
   "source": [
    "# Generate and fit the model 1\n",
    "\n",
    "X_train_model_1_fe = feature_eng_model_1(X_train_model_1)\n",
    "lin_reg = sm.OLS(y_train_model_1, X_train_model_1_fe)\n",
    "results_model_1 = lin_reg.fit()\n",
    "\n",
    "# Generate and fit the model 2\n",
    "\n",
    "X_train_model_2_fe = feature_eng_model_2(X_train_model_2)\n",
    "lin_reg = sm.OLS(y_train_model_2, X_train_model_2_fe)\n",
    "results_model_2 = lin_reg.fit()"
   ]
  },
  {
   "cell_type": "code",
   "execution_count": null,
   "id": "9828666d",
   "metadata": {},
   "outputs": [
    {
     "name": "stdout",
     "output_type": "stream",
     "text": [
      "Train RMSE is 1.3539658514350055\n",
      "Test RMSE is 1.3547123247382367\n"
     ]
    }
   ],
   "source": [
    "# Calculate the RMSE for both train and test for model 1 and 2\n",
    "\n",
    "# Model 1 - All features\n",
    "\n",
    "y_pred_model_1 = results_model_1.predict(X_train_model_1_fe)\n",
    "train_rmse_model_1 = statsmodels.tools.eval_measures.rmse(y_train, y_pred_model_1) # check\n",
    "print(f\"Train RMSE is {rmse}\")\n",
    "\n",
    "# Model 2 - All non-sensitive features\n",
    "\n",
    "X_test_fe = feature_eng(X_test)\n",
    "y_test_pred = results.predict(X_test_fe)\n",
    "rmse_test = statsmodels.tools.eval_measures.rmse(y_test, y_test_pred)\n",
    "print(f\"Test RMSE is {rmse_test}\")"
   ]
  },
  {
   "cell_type": "code",
   "execution_count": 31,
   "id": "31c3d836-9ef7-4f95-b060-40407645827f",
   "metadata": {},
   "outputs": [
    {
     "name": "stdout",
     "output_type": "stream",
     "text": [
      "const                          28.660577\n",
      "Year                            0.027768\n",
      "Infant_deaths                  -0.044838\n",
      "Under_five_deaths              -0.057968\n",
      "Adult_mortality                -0.047660\n",
      "Alcohol_consumption             0.071053\n",
      "Hepatitis_B                    -0.006812\n",
      "Measles                         0.002920\n",
      "BMI                            -0.143999\n",
      "Polio                           0.004377\n",
      "Diphtheria                     -0.002598\n",
      "Incidents_HIV                   0.066033\n",
      "GDP_per_capita                  0.000027\n",
      "Population_mln                 -0.000060\n",
      "Thinness_ten_nineteen_years    -0.038488\n",
      "Thinness_five_nine_years        0.001688\n",
      "Schooling                       0.082064\n",
      "Economy_status_Developed        0.622223\n",
      "dtype: float64\n"
     ]
    }
   ],
   "source": [
    "# Print the parameters which will be used in another notebook for the function to predict user inputed data for the all model\n",
    "print(results.params)"
   ]
  },
  {
   "cell_type": "code",
   "execution_count": null,
   "id": "93257022-545a-4a6f-b2df-3be0d8d2c0d3",
   "metadata": {},
   "outputs": [],
   "source": []
  },
  {
   "cell_type": "code",
   "execution_count": 39,
   "id": "9245b0c3-1fd7-4edf-a470-ab60ffd01973",
   "metadata": {},
   "outputs": [],
   "source": [
    "# Define X and y for the TT split\n",
    "X1 = df[feature_cols]\n",
    "y1 = df[\"Life_expectancy\"]"
   ]
  },
  {
   "cell_type": "code",
   "execution_count": 40,
   "id": "b4a05fb7-ff96-408f-8b3e-5273005762e7",
   "metadata": {},
   "outputs": [],
   "source": [
    "# Perform the TT split\n",
    "X_train, X_test, y_train, y_test = train_test_split(\n",
    "    X1, y1, test_size=0.2, random_state=69\n",
    ")"
   ]
  },
  {
   "cell_type": "code",
   "execution_count": 41,
   "id": "83f8fb03-9022-4a96-b26d-5dc84c6c4ecd",
   "metadata": {},
   "outputs": [],
   "source": [
    "# Generate and fit the mode\n",
    "X_train_fe = feature_eng(X_train)\n",
    "lin_reg = sm.OLS(y_train, X_train_fe)\n",
    "results = lin_reg.fit()"
   ]
  },
  {
   "cell_type": "code",
   "execution_count": 42,
   "id": "8db9ef0a-cc9c-40c5-8712-660e7bb02a22",
   "metadata": {},
   "outputs": [
    {
     "name": "stdout",
     "output_type": "stream",
     "text": [
      "Train RMSE is 6.079398507717432\n",
      "Test RMSE is 6.0471917039482515\n"
     ]
    }
   ],
   "source": [
    "# Calculate the RMSE\n",
    "y_pred = results.predict(X_train_fe)\n",
    "rmse = statsmodels.tools.eval_measures.rmse(y_train, y_pred)\n",
    "print(f\"Train RMSE is {rmse}\")\n",
    "\n",
    "X_test_fe = feature_eng(X_test)\n",
    "y_test_pred = results.predict(X_test_fe)\n",
    "rmse_test = statsmodels.tools.eval_measures.rmse(y_test, y_test_pred)\n",
    "print(f\"Test RMSE is {rmse_test}\")"
   ]
  },
  {
   "cell_type": "code",
   "execution_count": 43,
   "id": "a8d0d6e4-21f0-4419-aeda-35c2f5087041",
   "metadata": {},
   "outputs": [
    {
     "name": "stdout",
     "output_type": "stream",
     "text": [
      "const                      -243.593138\n",
      "Year                          0.148155\n",
      "GDP_per_capita                0.000126\n",
      "Population_mln                0.003584\n",
      "Schooling                     1.755860\n",
      "Economy_status_Developed      0.479281\n",
      "dtype: float64\n"
     ]
    }
   ],
   "source": [
    "# Print the parameters which will be used in another notebook for the function to predict user inputed data for the ethical model\n",
    "print(results.params)"
   ]
  },
  {
   "cell_type": "code",
   "execution_count": null,
   "id": "e3c9f817-a91f-4efd-a9ff-af8901d927ae",
   "metadata": {},
   "outputs": [],
   "source": []
  }
 ],
 "metadata": {
  "kernelspec": {
   "display_name": "base",
   "language": "python",
   "name": "python3"
  },
  "language_info": {
   "codemirror_mode": {
    "name": "ipython",
    "version": 3
   },
   "file_extension": ".py",
   "mimetype": "text/x-python",
   "name": "python",
   "nbconvert_exporter": "python",
   "pygments_lexer": "ipython3",
   "version": "3.12.3"
  }
 },
 "nbformat": 4,
 "nbformat_minor": 5
}
