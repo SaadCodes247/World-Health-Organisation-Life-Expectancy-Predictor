{
 "cells": [
  {
   "cell_type": "code",
   "execution_count": 23,
   "id": "a96d4451",
   "metadata": {},
   "outputs": [],
   "source": [
    "# Import all required libraries\n",
    "import pandas as pd\n",
    "import statsmodels.api as sm\n",
    "import statsmodels.tools\n",
    "from sklearn.model_selection import train_test_split\n",
    "from pathlib import Path"
   ]
  },
  {
   "cell_type": "code",
   "execution_count": 24,
   "id": "f21db0e4",
   "metadata": {},
   "outputs": [
    {
     "name": "stdin",
     "output_type": "stream",
     "text": [
      "Please enter filepath to CSV:  C:\\Users\\Gaming\\Downloads\\Life Expectancy Data.csv\n"
     ]
    }
   ],
   "source": [
    "#Lets the user enter the file path to the csv and also formats it to escape any / and remove leading and trailing \"\n",
    "filepath = input(\"Please enter filepath to CSV: \")\n",
    "filepath = Path(filepath.strip().replace('\"', '').replace(\"'\", \"\"))  # remove \" and '\n",
    "df = pd.read_csv(filepath)"
   ]
  },
  {
   "cell_type": "markdown",
   "id": "6144e77b",
   "metadata": {},
   "source": [
    "The Consent Function"
   ]
  },
  {
   "cell_type": "code",
   "execution_count": 25,
   "id": "3b42c7bc-b652-45b6-87d1-985bc8ee8804",
   "metadata": {},
   "outputs": [],
   "source": [
    "# The columns we want in the all model\n",
    "feature_cols = [\n",
    "            \"Year\",\n",
    "            \"Infant_deaths\",\n",
    "            \"Under_five_deaths\",\n",
    "            \"Adult_mortality\",\n",
    "            \"Alcohol_consumption\",\n",
    "            \"Hepatitis_B\",\n",
    "            \"Measles\",\n",
    "            \"BMI\",\n",
    "            \"Polio\",\n",
    "            \"Diphtheria\",\n",
    "            \"Incidents_HIV\",\n",
    "            \"GDP_per_capita\",\n",
    "            \"Population_mln\",\n",
    "            \"Thinness_ten_nineteen_years\",\n",
    "            \"Thinness_five_nine_years\",\n",
    "            \"Schooling\",\n",
    "            \"Economy_status_Developed\",\n",
    "        ]"
   ]
  },
  {
   "cell_type": "code",
   "execution_count": 26,
   "id": "d85b9adb",
   "metadata": {},
   "outputs": [],
   "source": [
    "# As all the features we want are numeric we don't have to OHE or label encode\n",
    "def feature_eng(dh):\n",
    "    dh = dh.copy()\n",
    "    dh = sm.add_constant(dh)\n",
    "    return dh"
   ]
  },
  {
   "cell_type": "code",
   "execution_count": 27,
   "id": "b46955d9",
   "metadata": {},
   "outputs": [],
   "source": [
    "# Define X and y for the TT split\n",
    "X = df[feature_cols]\n",
    "y = df[\"Life_expectancy\"]"
   ]
  },
  {
   "cell_type": "code",
   "execution_count": 28,
   "id": "4bbb7105",
   "metadata": {},
   "outputs": [],
   "source": [
    "# Perform the TT split\n",
    "X_train, X_test, y_train, y_test = train_test_split(\n",
    "    X, y, test_size=0.2, random_state=69\n",
    ")"
   ]
  },
  {
   "cell_type": "code",
   "execution_count": 29,
   "id": "a5ae4bd8",
   "metadata": {},
   "outputs": [],
   "source": [
    "# Generate and fit the mode\n",
    "X_train_fe = feature_eng(X_train)\n",
    "lin_reg = sm.OLS(y_train, X_train_fe)\n",
    "results = lin_reg.fit()"
   ]
  },
  {
   "cell_type": "code",
   "execution_count": 30,
   "id": "9828666d",
   "metadata": {},
   "outputs": [
    {
     "name": "stdout",
     "output_type": "stream",
     "text": [
      "Train RMSE is 1.3539658514350055\n",
      "Test RMSE is 1.3547123247382367\n"
     ]
    }
   ],
   "source": [
    "# Calculate the RMSE\n",
    "y_pred = results.predict(X_train_fe)\n",
    "rmse = statsmodels.tools.eval_measures.rmse(y_train, y_pred)\n",
    "print(f\"Train RMSE is {rmse}\")\n",
    "\n",
    "X_test_fe = feature_eng(X_test)\n",
    "y_test_pred = results.predict(X_test_fe)\n",
    "rmse_test = statsmodels.tools.eval_measures.rmse(y_test, y_test_pred)\n",
    "print(f\"Test RMSE is {rmse_test}\")"
   ]
  },
  {
   "cell_type": "code",
   "execution_count": 31,
   "id": "31c3d836-9ef7-4f95-b060-40407645827f",
   "metadata": {},
   "outputs": [
    {
     "name": "stdout",
     "output_type": "stream",
     "text": [
      "const                          28.660577\n",
      "Year                            0.027768\n",
      "Infant_deaths                  -0.044838\n",
      "Under_five_deaths              -0.057968\n",
      "Adult_mortality                -0.047660\n",
      "Alcohol_consumption             0.071053\n",
      "Hepatitis_B                    -0.006812\n",
      "Measles                         0.002920\n",
      "BMI                            -0.143999\n",
      "Polio                           0.004377\n",
      "Diphtheria                     -0.002598\n",
      "Incidents_HIV                   0.066033\n",
      "GDP_per_capita                  0.000027\n",
      "Population_mln                 -0.000060\n",
      "Thinness_ten_nineteen_years    -0.038488\n",
      "Thinness_five_nine_years        0.001688\n",
      "Schooling                       0.082064\n",
      "Economy_status_Developed        0.622223\n",
      "dtype: float64\n"
     ]
    }
   ],
   "source": [
    "# Print the parameters which will be used in another notebook for the function to predict user inputed data for the all model\n",
    "print(results.params)"
   ]
  },
  {
   "cell_type": "code",
   "execution_count": 38,
   "id": "93257022-545a-4a6f-b2df-3be0d8d2c0d3",
   "metadata": {},
   "outputs": [],
   "source": [
    "# The columns we want in the ethical model\n",
    "feature_cols = [\n",
    "            \"Year\",\n",
    "            \"GDP_per_capita\",\n",
    "            \"Population_mln\",\n",
    "            \"Schooling\",\n",
    "            \"Economy_status_Developed\",\n",
    "        ]"
   ]
  },
  {
   "cell_type": "code",
   "execution_count": 39,
   "id": "9245b0c3-1fd7-4edf-a470-ab60ffd01973",
   "metadata": {},
   "outputs": [],
   "source": [
    "# Define X and y for the TT split\n",
    "X1 = df[feature_cols]\n",
    "y1 = df[\"Life_expectancy\"]"
   ]
  },
  {
   "cell_type": "code",
   "execution_count": 40,
   "id": "b4a05fb7-ff96-408f-8b3e-5273005762e7",
   "metadata": {},
   "outputs": [],
   "source": [
    "# Perform the TT split\n",
    "X_train, X_test, y_train, y_test = train_test_split(\n",
    "    X1, y1, test_size=0.2, random_state=69\n",
    ")"
   ]
  },
  {
   "cell_type": "code",
   "execution_count": 41,
   "id": "83f8fb03-9022-4a96-b26d-5dc84c6c4ecd",
   "metadata": {},
   "outputs": [],
   "source": [
    "# Generate and fit the mode\n",
    "X_train_fe = feature_eng(X_train)\n",
    "lin_reg = sm.OLS(y_train, X_train_fe)\n",
    "results = lin_reg.fit()"
   ]
  },
  {
   "cell_type": "code",
   "execution_count": 42,
   "id": "8db9ef0a-cc9c-40c5-8712-660e7bb02a22",
   "metadata": {},
   "outputs": [
    {
     "name": "stdout",
     "output_type": "stream",
     "text": [
      "Train RMSE is 6.079398507717432\n",
      "Test RMSE is 6.0471917039482515\n"
     ]
    }
   ],
   "source": [
    "# Calculate the RMSE\n",
    "y_pred = results.predict(X_train_fe)\n",
    "rmse = statsmodels.tools.eval_measures.rmse(y_train, y_pred)\n",
    "print(f\"Train RMSE is {rmse}\")\n",
    "\n",
    "X_test_fe = feature_eng(X_test)\n",
    "y_test_pred = results.predict(X_test_fe)\n",
    "rmse_test = statsmodels.tools.eval_measures.rmse(y_test, y_test_pred)\n",
    "print(f\"Test RMSE is {rmse_test}\")"
   ]
  },
  {
   "cell_type": "code",
   "execution_count": 43,
   "id": "a8d0d6e4-21f0-4419-aeda-35c2f5087041",
   "metadata": {},
   "outputs": [
    {
     "name": "stdout",
     "output_type": "stream",
     "text": [
      "const                      -243.593138\n",
      "Year                          0.148155\n",
      "GDP_per_capita                0.000126\n",
      "Population_mln                0.003584\n",
      "Schooling                     1.755860\n",
      "Economy_status_Developed      0.479281\n",
      "dtype: float64\n"
     ]
    }
   ],
   "source": [
    "# Print the parameters which will be used in another notebook for the function to predict user inputed data for the ethical model\n",
    "print(results.params)"
   ]
  },
  {
   "cell_type": "code",
   "execution_count": null,
   "id": "e3c9f817-a91f-4efd-a9ff-af8901d927ae",
   "metadata": {},
   "outputs": [],
   "source": []
  }
 ],
 "metadata": {
  "kernelspec": {
   "display_name": "Python 3 (ipykernel)",
   "language": "python",
   "name": "python3"
  },
  "language_info": {
   "codemirror_mode": {
    "name": "ipython",
    "version": 3
   },
   "file_extension": ".py",
   "mimetype": "text/x-python",
   "name": "python",
   "nbconvert_exporter": "python",
   "pygments_lexer": "ipython3",
   "version": "3.13.5"
  }
 },
 "nbformat": 4,
 "nbformat_minor": 5
}
